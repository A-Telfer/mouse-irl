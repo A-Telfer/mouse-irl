{
 "cells": [
  {
   "cell_type": "markdown",
   "id": "1b9d7ca3-5152-4adc-a4ab-0fca7522fceb",
   "metadata": {},
   "source": [
    "# Playback Agent"
   ]
  },
  {
   "cell_type": "code",
   "execution_count": null,
   "id": "11677955-dae9-4de1-b457-b85e685613d8",
   "metadata": {
    "tags": []
   },
   "outputs": [],
   "source": [
    "import gymnasium\n",
    "import mouse_irl\n",
    "import json\n",
    "\n",
    "from pathlib import Path"
   ]
  },
  {
   "cell_type": "markdown",
   "id": "92dace51-df9c-4a3e-b539-a07d331f54c0",
   "metadata": {},
   "source": [
    "## Load the agent data"
   ]
  },
  {
   "cell_type": "code",
   "execution_count": 2,
   "id": "af134b4b-5032-4622-b859-e68dfda60758",
   "metadata": {
    "tags": []
   },
   "outputs": [
    {
     "name": "stdout",
     "output_type": "stream",
     "text": [
      "dict_keys(['initial_position', 'actions', 'path', 'corresponding_frames', 'id', 'treatment'])\n"
     ]
    }
   ],
   "source": [
    "dataset = mouse_irl.datasets.Dataset0()\n",
    "data = dataset['saline-ghrelin', 1]"
   ]
  },
  {
   "cell_type": "markdown",
   "id": "66421259-1d2a-4ca2-944a-77196287020e",
   "metadata": {},
   "source": [
    "## Simulate in the RL env"
   ]
  },
  {
   "cell_type": "code",
   "execution_count": 3,
   "id": "ec4c075b-4f7d-4676-bb85-e807d79a7d64",
   "metadata": {
    "tags": []
   },
   "outputs": [],
   "source": [
    "env = gymnasium.make('mouse_irl/OpenFieldEnv-v0')\n",
    "env.reset(mouse_position=data['initial_position'])\n",
    "\n",
    "for i, action in enumerate(data['actions']):\n",
    "    env.step(action)\n",
    "    env.render()\n",
    "    if i > 150:\n",
    "        break"
   ]
  },
  {
   "cell_type": "code",
   "execution_count": 4,
   "id": "195d1283-b984-4957-be0a-b8e0bd63d821",
   "metadata": {
    "tags": []
   },
   "outputs": [],
   "source": [
    "env.close()"
   ]
  }
 ],
 "metadata": {
  "kernelspec": {
   "display_name": "comp5900j",
   "language": "python",
   "name": "comp5900j"
  },
  "language_info": {
   "codemirror_mode": {
    "name": "ipython",
    "version": 3
   },
   "file_extension": ".py",
   "mimetype": "text/x-python",
   "name": "python",
   "nbconvert_exporter": "python",
   "pygments_lexer": "ipython3",
   "version": "3.9.16"
  }
 },
 "nbformat": 4,
 "nbformat_minor": 5
}
